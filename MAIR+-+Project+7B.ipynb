{
 "cells": [
  {
   "cell_type": "code",
   "execution_count": 12,
   "metadata": {},
   "outputs": [],
   "source": [
    "# We are creating a dataset which is based on all of the dual-task trials per block and we are ignoring the practice trials\n",
    "# The dataset is built by merging the results acquired in the paper created by Chris (---link---)\n",
    "\n",
    "# Some columns are based on the significance provided in the said paper ( & maybe image here)\n",
    "# The csv files we are merging into our dataset are provided below\n",
    "\n",
    "# -MaxDeviationPerTrial.csv\n",
    "# -maxnrDigitEnteredPerPPAndPerBlockPerTrial.csv\n",
    "# -numberOfVisitsTrackerPerParticipantPerBlock.csv (trial data)\n",
    "# samplesOutsideTrial.csv(*)\n",
    "# sdVisTime.csv(*)\n",
    "# tableForMeanTimeInDigitPerPPandPerBlock.csv(*) - merge the data ber block maybe?\n",
    "\n",
    "# We are using the payoff function values provided in the meanVisTime.csv file\n",
    "# The columns marked with star could be significant and we are testing to see the results with or without the said feature"
   ]
  },
  {
   "cell_type": "code",
   "execution_count": 26,
   "metadata": {
    "scrolled": true
   },
   "outputs": [
    {
     "data": {
      "text/html": [
       "<div>\n",
       "<style>\n",
       "    .dataframe thead tr:only-child th {\n",
       "        text-align: right;\n",
       "    }\n",
       "\n",
       "    .dataframe thead th {\n",
       "        text-align: left;\n",
       "    }\n",
       "\n",
       "    .dataframe tbody tr th {\n",
       "        vertical-align: top;\n",
       "    }\n",
       "</style>\n",
       "<table border=\"1\" class=\"dataframe\">\n",
       "  <thead>\n",
       "    <tr style=\"text-align: right;\">\n",
       "      <th></th>\n",
       "      <th>Unnamed: 0</th>\n",
       "      <th>SubjectNr</th>\n",
       "      <th>TrialNumber</th>\n",
       "      <th>Block</th>\n",
       "      <th>PayOffFunctionNumeric</th>\n",
       "      <th>Radius</th>\n",
       "      <th>Noise</th>\n",
       "      <th>IKINumber</th>\n",
       "      <th>MaxDeviation</th>\n",
       "      <th>MaxNrDigits</th>\n",
       "      <th>TrackingWindowVisitCounter</th>\n",
       "      <th>MeanTimeTypingWindow</th>\n",
       "      <th>Score</th>\n",
       "    </tr>\n",
       "  </thead>\n",
       "  <tbody>\n",
       "    <tr>\n",
       "      <th>0</th>\n",
       "      <td>1</td>\n",
       "      <td>101</td>\n",
       "      <td>107</td>\n",
       "      <td>1</td>\n",
       "      <td>1</td>\n",
       "      <td>80</td>\n",
       "      <td>3</td>\n",
       "      <td>0.308554</td>\n",
       "      <td>76.66</td>\n",
       "      <td>6</td>\n",
       "      <td>3</td>\n",
       "      <td>2.079050</td>\n",
       "      <td>0.028</td>\n",
       "    </tr>\n",
       "    <tr>\n",
       "      <th>1</th>\n",
       "      <td>2</td>\n",
       "      <td>101</td>\n",
       "      <td>108</td>\n",
       "      <td>1</td>\n",
       "      <td>1</td>\n",
       "      <td>80</td>\n",
       "      <td>3</td>\n",
       "      <td>0.308554</td>\n",
       "      <td>44.27</td>\n",
       "      <td>9</td>\n",
       "      <td>2</td>\n",
       "      <td>2.111167</td>\n",
       "      <td>0.070</td>\n",
       "    </tr>\n",
       "    <tr>\n",
       "      <th>2</th>\n",
       "      <td>3</td>\n",
       "      <td>101</td>\n",
       "      <td>109</td>\n",
       "      <td>1</td>\n",
       "      <td>1</td>\n",
       "      <td>80</td>\n",
       "      <td>3</td>\n",
       "      <td>0.308554</td>\n",
       "      <td>69.16</td>\n",
       "      <td>8</td>\n",
       "      <td>2</td>\n",
       "      <td>2.060633</td>\n",
       "      <td>0.062</td>\n",
       "    </tr>\n",
       "    <tr>\n",
       "      <th>3</th>\n",
       "      <td>4</td>\n",
       "      <td>101</td>\n",
       "      <td>110</td>\n",
       "      <td>1</td>\n",
       "      <td>1</td>\n",
       "      <td>80</td>\n",
       "      <td>3</td>\n",
       "      <td>0.308554</td>\n",
       "      <td>71.33</td>\n",
       "      <td>11</td>\n",
       "      <td>1</td>\n",
       "      <td>3.286850</td>\n",
       "      <td>0.073</td>\n",
       "    </tr>\n",
       "    <tr>\n",
       "      <th>4</th>\n",
       "      <td>5</td>\n",
       "      <td>101</td>\n",
       "      <td>111</td>\n",
       "      <td>1</td>\n",
       "      <td>1</td>\n",
       "      <td>80</td>\n",
       "      <td>3</td>\n",
       "      <td>0.308554</td>\n",
       "      <td>37.37</td>\n",
       "      <td>7</td>\n",
       "      <td>3</td>\n",
       "      <td>2.154425</td>\n",
       "      <td>0.013</td>\n",
       "    </tr>\n",
       "  </tbody>\n",
       "</table>\n",
       "</div>"
      ],
      "text/plain": [
       "   Unnamed: 0  SubjectNr  TrialNumber  Block  PayOffFunctionNumeric  Radius  \\\n",
       "0           1        101          107      1                      1      80   \n",
       "1           2        101          108      1                      1      80   \n",
       "2           3        101          109      1                      1      80   \n",
       "3           4        101          110      1                      1      80   \n",
       "4           5        101          111      1                      1      80   \n",
       "\n",
       "   Noise  IKINumber  MaxDeviation  MaxNrDigits  TrackingWindowVisitCounter  \\\n",
       "0      3   0.308554         76.66            6                           3   \n",
       "1      3   0.308554         44.27            9                           2   \n",
       "2      3   0.308554         69.16            8                           2   \n",
       "3      3   0.308554         71.33           11                           1   \n",
       "4      3   0.308554         37.37            7                           3   \n",
       "\n",
       "   MeanTimeTypingWindow  Score  \n",
       "0              2.079050  0.028  \n",
       "1              2.111167  0.070  \n",
       "2              2.060633  0.062  \n",
       "3              3.286850  0.073  \n",
       "4              2.154425  0.013  "
      ]
     },
     "execution_count": 26,
     "metadata": {},
     "output_type": "execute_result"
    }
   ],
   "source": [
    "# We first read the data and display it\n",
    "final_rows = []\n",
    "\n",
    "import pandas as pd\n",
    "data = pd.read_csv('./data.csv');"
   ]
  },
  {
   "cell_type": "code",
   "execution_count": 96,
   "metadata": {},
   "outputs": [
    {
     "name": "stdout",
     "output_type": "stream",
     "text": [
      "Resulting length : 8\n"
     ]
    }
   ],
   "source": [
    "# We first split the data into 8 datasets\n",
    "# and we calculate the mean value for each of the dataset\n",
    "# in order to see how biased the data is in terms of \n",
    "# Radius, Noise and the payoff function\n",
    "\n",
    "split_on = ['PayOffFunctionNumeric','Radius','Noise']\n",
    "\n",
    "def split(dataSets,col):\n",
    "    \n",
    "    s = []\n",
    "    \n",
    "    for data in dataSets:\n",
    "        \n",
    "        if(col >= len(split_on)):\n",
    "            return None\n",
    "        \n",
    "        values = {}\n",
    "        \n",
    "        for row in range(0,data.shape[ 0 ]):\n",
    "            splitColumn = split_on[ col ]\n",
    "\n",
    "            rowValue = data.iloc[ row ][ splitColumn ]\n",
    "            \n",
    "            if not rowValue in values:\n",
    "                values[ rowValue ] = [ ]\n",
    "                \n",
    "            values[ rowValue ].append(row)\n",
    "            \n",
    "        for value in values:\n",
    "            \n",
    "            nextSet = []\n",
    "            \n",
    "            for row in values[value]:\n",
    "                nextSet.append(data.iloc[ row ])\n",
    "                \n",
    "            s.append(pd.DataFrame(nextSet))\n",
    "            \n",
    "        \n",
    "    res = split( s , col + 1 )\n",
    "    \n",
    "    if res is None:\n",
    "        return s\n",
    "    else: \n",
    "        return res\n",
    "    \n",
    "sets = [data]\n",
    "\n",
    "split_sets = split(sets,0)\n",
    "\n",
    "print('Resulting length : ' +  str(len(result)))"
   ]
  },
  {
   "cell_type": "code",
   "execution_count": 143,
   "metadata": {},
   "outputs": [],
   "source": [
    "#We then take the top N percent of each of the sets\n",
    "\n",
    "def get_by_split(sets,start, step, end, func):\n",
    "    while start <= end:\n",
    "        for dataSet in sets:\n",
    "            sorted_set = dataSet.sort_values('Score')\n",
    "            total = dataSet.shape[0] * start\n",
    "            items = sorted_set.head(int(total))\n",
    "            func(start,items)\n",
    "        start = start + step\n",
    "\n",
    "per_tick = {}\n",
    "\n",
    "#We then compute the mean for the score column for the provided dataset\n",
    "def mean(current_tick,item):\n",
    "    meanVal = item['Score'].mean()\n",
    "    \n",
    "    if current_tick not in per_tick:\n",
    "        per_tick[current_tick]= []\n",
    "        \n",
    "    per_tick[current_tick].append(meanVal)\n",
    "\n",
    "get_by_split(split_sets, 0.25, 0.05, 0.4,mean)"
   ]
  },
  {
   "cell_type": "code",
   "execution_count": 144,
   "metadata": {},
   "outputs": [
    {
     "data": {
      "image/png": "[encoded data removed]",
      "text/plain": [
       "<matplotlib.figure.Figure at 0x25d9db6cf60>"
      ]
     },
     "metadata": {},
     "output_type": "display_data"
    },
    {
     "data": {
      "image/png": "[encoded data removed]",
      "text/plain": [
       "<matplotlib.figure.Figure at 0x25d9dc4f588>"
      ]
     },
     "metadata": {},
     "output_type": "display_data"
    },
    {
     "data": {
      "image/png": "[encoded data removed]",
      "text/plain": [
       "<matplotlib.figure.Figure at 0x25d9dad2b70>"
      ]
     },
     "metadata": {},
     "output_type": "display_data"
    },
    {
     "data": {
      "image/png": "[encoded data removed]",
      "text/plain": [
       "<matplotlib.figure.Figure at 0x25d9d7cd0f0>"
      ]
     },
     "metadata": {},
     "output_type": "display_data"
    }
   ],
   "source": [
    "# We can now measure the distributions\n",
    "# by testing different sizes\n",
    "\n",
    "import matplotlib.pyplot as plt\n",
    "import numpy as np\n",
    "\n",
    "for tick_size in per_tick:\n",
    "    tick_marks = np.arange(len(per_tick[tick_size]))\n",
    "    fig, ax = plt.subplots()\n",
    "    plt.bar(tick_marks,per_tick[tick_size])\n",
    "    plt.show()\n"
   ]
  },
  {
   "cell_type": "code",
   "execution_count": 25,
   "metadata": {},
   "outputs": [
    {
     "name": "stdout",
     "output_type": "stream",
     "text": [
      "   Unnamed: 0  SubjectNr  TrialNumber PayOffFunction  Radius  Noise  Block  \\\n",
      "1           2        101          108          Speed      80      3      1   \n",
      "\n",
      "  IKIgroup  MaxDeviation  MaxNrDigits  TrackingWindowVisitCounter  \\\n",
      "1     fast         44.27            9                           2   \n",
      "\n",
      "   MeanTimeTypingWindow  \n",
      "1              2.111167  \n",
      "   Unnamed: 0  SubjectNr  TrialNumber PayOffFunction  Noise  Block IKIgroup  \\\n",
      "0           1        101          107          Speed      3      1     fast   \n",
      "\n",
      "   MaxDeviation  MaxNrDigits  TrackingWindowVisitCounter  MeanTimeTypingWindow  \n",
      "0         76.66            6                           3               2.07905  \n"
     ]
    }
   ],
   "source": [
    "# Then we split the data into training and testing sets by using the train test split function\n",
    "from sklearn.model_selection import train_test_split\n",
    "\n",
    "# Percentage of \n",
    "test = 0.25\n",
    "\n",
    "y = data.loc[data['Block']]\n",
    "X = data.drop('Radius',1)\n",
    "\n",
    "\n",
    "#We split the data in train and test sets\n",
    "X_train,X_test,y_train,y_test = train_test_split(X,y,test_size=test)"
   ]
  },
  {
   "cell_type": "code",
   "execution_count": 1,
   "metadata": {},
   "outputs": [],
   "source": [
    "from sklearn.svm import SVR\n",
    "from sklearn import tree\n",
    "\n",
    "\n",
    "algorithms = [SVR, tree]\n",
    "\n",
    "for algorithm in algorithms:\n",
    "    instance = algorithm()"
   ]
  },
  {
   "cell_type": "code",
   "execution_count": null,
   "metadata": {},
   "outputs": [],
   "source": []
  }
 ],
 "metadata": {
  "kernelspec": {
   "display_name": "Python 3",
   "language": "python",
   "name": "python3"
  },
  "language_info": {
   "codemirror_mode": {
    "name": "ipython",
    "version": 3
   },
   "file_extension": ".py",
   "mimetype": "text/x-python",
   "name": "python",
   "nbconvert_exporter": "python",
   "pygments_lexer": "ipython3",
   "version": "3.6.1"
  }
 },
 "nbformat": 4,
 "nbformat_minor": 2
}
