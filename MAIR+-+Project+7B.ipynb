{
 "cells": [
  {
   "cell_type": "code",
   "execution_count": 1,
   "metadata": {},
   "outputs": [],
   "source": [
    "# We are creating a dataset which is based on all of the dual-task trials per block and we are ignoring the practice trials\n",
    "# The dataset is built by merging the results acquired in the paper created by Chris (---link---)\n",
    "\n",
    "# Some columns are based on the significance provided in the said paper ( & maybe image here)\n",
    "# The csv files we are merging into our dataset are provided below\n",
    "\n",
    "# -MaxDeviationPerTrial.csv\n",
    "# -maxnrDigitEnteredPerPPAndPerBlockPerTrial.csv\n",
    "# -numberOfVisitsTrackerPerParticipantPerBlock.csv (trial data)\n",
    "# samplesOutsideTrial.csv(*)\n",
    "# sdVisTime.csv(*)\n",
    "# tableForMeanTimeInDigitPerPPandPerBlock.csv(*) - merge the data ber block maybe?\n",
    "\n",
    "# We are using the payoff function values provided in the meanVisTime.csv file\n",
    "# The columns marked with star could be significant and we are testing to see the results with or without the said feature"
   ]
  },
  {
   "cell_type": "code",
   "execution_count": 2,
   "metadata": {
    "scrolled": true
   },
   "outputs": [
    {
     "name": "stdout",
     "output_type": "stream",
     "text": [
      "(1920, 8)\n"
     ]
    },
    {
     "data": {
      "text/plain": [
       "'loaded data!'"
      ]
     },
     "metadata": {},
     "output_type": "display_data"
    }
   ],
   "source": [
    "# We first read the data and display it\n",
    "final_rows = []\n",
    "\n",
    "import pandas as pd\n",
    "\n",
    "data = pd.read_csv('./data.csv');\n",
    "\n",
    "print(data.shape)\n",
    "\n",
    "display('loaded data!')"
   ]
  },
  {
   "cell_type": "code",
   "execution_count": 3,
   "metadata": {
    "scrolled": true
   },
   "outputs": [
    {
     "name": "stdout",
     "output_type": "stream",
     "text": [
      "resulting length : 8\n"
     ]
    }
   ],
   "source": [
    "# We first split the data into 8 datasets\n",
    "# and we calculate the mean value for each of the dataset\n",
    "# in order to see how biased the data is in terms of \n",
    "# Radius, Noise and the payoff function\n",
    "\n",
    "split_on = ['PayOffFunction','Radius','Noise']\n",
    "\n",
    "def split(dataSets,col):\n",
    "    \n",
    "    s = []\n",
    "    \n",
    "    for data in dataSets:\n",
    "        \n",
    "        if(col >= len(split_on)):\n",
    "            return None\n",
    "        \n",
    "        values = {}\n",
    "        \n",
    "        for row in range(0,data.shape[ 0 ]):\n",
    "            splitColumn = split_on[ col ]\n",
    "\n",
    "            rowValue = data.iloc[ row ][ splitColumn ]\n",
    "            \n",
    "            if not rowValue in values:\n",
    "                values[ rowValue ] = [ ]\n",
    "                \n",
    "            values[ rowValue ].append(row)\n",
    "            \n",
    "        for value in values:\n",
    "            \n",
    "            nextSet = []\n",
    "            \n",
    "            for row in values[value]:\n",
    "                nextSet.append(data.iloc[ row ])\n",
    "                \n",
    "            s.append(pd.DataFrame(nextSet))\n",
    "    res = split( s , col + 1 )\n",
    "    \n",
    "    if res is None:\n",
    "        return s\n",
    "    else: \n",
    "        return res\n",
    "    \n",
    "sets = [ data ]\n",
    "\n",
    "split_sets = split(sets,0)\n",
    "\n",
    "#for debug\n",
    "#i = 0\n",
    "#for item in split_sets:\n",
    "#    item.to_csv('dataset_' + str(i) + '.csv')\n",
    "#    i = i + 1\n",
    "\n",
    "print('resulting length : ' +  str(len(split_sets)))\n"
   ]
  },
  {
   "cell_type": "code",
   "execution_count": 4,
   "metadata": {},
   "outputs": [],
   "source": [
    "\n",
    "#We then take the top N percent of each of the sets\n",
    "\n",
    "def get_by_split(sets,start, step, end, func):\n",
    "    \n",
    "    while start <= end:\n",
    "    \n",
    "        for dataSet in sets:\n",
    "            func(start,dataSet)\n",
    "            \n",
    "        start = start + step\n",
    "\n",
    "per_tick = {}\n",
    "\n",
    "#we save all of the datasets in this variable for later use\n",
    "datasets = []\n",
    "\n",
    "#We then compute the mean for the score column for the provided dataset\n",
    "def mean(current_tick,item):\n",
    "\n",
    "    #meanVal = item['Score'].mean()\n",
    "    \n",
    "    #if current_tick not in per_tick:\n",
    "    #    per_tick[current_tick]= []\n",
    "   #     \n",
    "   # per_tick[current_tick].append(meanVal)\n",
    "    datasets.append(item)\n",
    "\n",
    "get_by_split(split_sets, 1, 0.05, 1,mean)\n"
   ]
  },
  {
   "cell_type": "code",
   "execution_count": 5,
   "metadata": {},
   "outputs": [],
   "source": [
    "from sklearn.utils import shuffle\n",
    "d = []\n",
    "for dataset in datasets:\n",
    "    newset = shuffle(dataset)\n",
    "    d.append(newset)\n",
    "datasets = d"
   ]
  },
  {
   "cell_type": "code",
   "execution_count": 6,
   "metadata": {},
   "outputs": [],
   "source": [
    "# We can now measure the distributions\n",
    "# by testing different sizes\n",
    "\n",
    "import matplotlib.pyplot as plt\n",
    "import numpy as np\n",
    "\n",
    "for tick_size in per_tick:\n",
    "    tick_marks = np.arange(len(per_tick[tick_size]))\n",
    "    fig, ax = plt.subplots()\n",
    "    plt.bar(tick_marks,per_tick[tick_size])\n",
    "    plt.show()"
   ]
  },
  {
   "cell_type": "code",
   "execution_count": 16,
   "metadata": {
    "scrolled": false
   },
   "outputs": [
    {
     "name": "stdout",
     "output_type": "stream",
     "text": [
      "there are 8 datasets\n",
      "starting to aquire chunk 0\n",
      "starting to aquire chunk 1\n",
      "starting to aquire chunk 2\n",
      "starting to aquire chunk 3\n",
      "starting to aquire chunk 4\n",
      "starting to aquire chunk 5\n",
      "starting to aquire chunk 6\n",
      "starting to aquire chunk 7\n",
      "starting to aquire chunk 8\n",
      "starting to aquire chunk 9\n",
      "done partitioning in chunks\n"
     ]
    }
   ],
   "source": [
    "dictionary = {}\n",
    "\n",
    "i = 0;\n",
    "perc = 10\n",
    "rowCounter = 0\n",
    "\n",
    "print( 'there are ' + str(len(datasets)) + ' datasets' )\n",
    "\n",
    "while(i <= 9):\n",
    "    \n",
    "    print('starting to aquire chunk ' + str(i))\n",
    "    \n",
    "    rp = []\n",
    "\n",
    "    for next_set in datasets:\n",
    "        size = int(next_set.shape[0] / perc)\n",
    "        \n",
    "        #starting point\n",
    "        take = i * size\n",
    "        start = take\n",
    "        end = take + size\n",
    "        next_items = next_set[start:end]\n",
    "        \n",
    "        frame = pd.DataFrame(next_items,columns=next_set.columns)\n",
    "        rp.append(frame)\n",
    "        \n",
    "    dictionary[ i ] = pd.concat(shuffle(rp))\n",
    "    dictionary[i].to_csv('dict ' + str(i) + '.csv')\n",
    "    i = i + 1\n",
    "    \n",
    "print('done partitioning in chunks')"
   ]
  },
  {
   "cell_type": "code",
   "execution_count": 17,
   "metadata": {},
   "outputs": [],
   "source": [
    "# Then we split the data into training and testing sets by using the train test split function\n",
    "from sklearn.model_selection import train_test_split\n",
    "from sklearn.model_selection import PredefinedSplit\n",
    "\n",
    "def augment(func, label):\n",
    " splits = {}\n",
    " k = 0\n",
    " \n",
    " best_score = -999999\n",
    " model_y = None\n",
    " ordered_dataset = None\n",
    " print('Begin training classifier')\n",
    "\n",
    " for k in dictionary:\n",
    "     test_set = dictionary[k]\n",
    "     train_q = [test_set]\n",
    "    \n",
    "     for key in dictionary:\n",
    "         if key == k: \n",
    "             continue\n",
    "         train_q.append(dictionary[key])\n",
    "        \n",
    "     train_data = pd.concat(train_q)\n",
    "        \n",
    "     y = train_data[ label ]\n",
    "     X = train_data.drop( label , 1 )\n",
    "        \n",
    "     indic = []\n",
    "    \n",
    "     for i in range(0, X.shape[0]):\n",
    "        if i < test_set.shape[0]:\n",
    "            indic.append(1)\n",
    "        else:\n",
    "            indic.append(-1)\n",
    "                \n",
    "     #https://stackoverflow.com/questions/31948879/using-explict-predefined-validation-set-for-grid-search-with-sklearn\n",
    "     ps = PredefinedSplit(test_fold=indic)\n",
    "        \n",
    "     print(X.shape)\n",
    "        \n",
    "     result = func(X,y,ps)\n",
    "    \n",
    "     if result[0] > best_score:\n",
    "        best_score=result[0]\n",
    "        model_y = result[1]\n",
    "        ordered_dataset = result[2]\n",
    "        ordered_dataset[label]=y\n",
    "        \n",
    " ordered_dataset['d'] = model_y\n",
    " ordered_dataset.to_csv('dataset.csv')\n",
    " print('ordered dataset produced')\n",
    " print('End training classifier')\n",
    "    \n",
    " print('Avg speed')\n",
    " speed = ordered_dataset.loc[ordered_dataset['PayOffFunction'] == 'Speed']['d'].mean()\n",
    " acc = ordered_dataset.loc[ordered_dataset['PayOffFunction'] == 'Accuracy']['d'].mean()\n",
    "\n",
    " print(speed)\n",
    " print('Avg acc')\n",
    "\n",
    " print(acc)\n",
    " return ordered_dataset\n",
    "    "
   ]
  },
  {
   "cell_type": "code",
   "execution_count": 9,
   "metadata": {},
   "outputs": [],
   "source": [
    "from sklearn.svm import SVC\n",
    "from sklearn.tree import tree\n",
    "from sklearn.ensemble import RandomForestRegressor\n",
    "from sklearn.linear_model import LogisticRegression\n",
    "\n",
    "# here be les dragons\n",
    "sv = SVC(cache_size=7000)\n",
    "tr = tree.DecisionTreeClassifier()\n",
    "rfr = RandomForestRegressor()\n",
    "lreg = LogisticRegression()"
   ]
  },
  {
   "cell_type": "code",
   "execution_count": 18,
   "metadata": {},
   "outputs": [],
   "source": [
    "# Using grid search CV to tweak parameters\n",
    "# We define a hyper parameter\n",
    "\n",
    "from sklearn.model_selection import GridSearchCV\n",
    "\n",
    "dict_grid = {\n",
    "    sv: [\n",
    "            {\n",
    "                'C': [10], \n",
    "                'gamma' : [1],\n",
    "                'kernel' : ['linear']\n",
    "            }\n",
    "    ],\n",
    "    tr : [\n",
    "            {\n",
    "                #TODO:...\n",
    "            }\n",
    "    ],\n",
    "    rfr: [\n",
    "        {\n",
    "            'n_estimators' : [5,10],\n",
    "            \n",
    "        }\n",
    "    ],\n",
    "    lreg: [\n",
    "        {\n",
    "            \n",
    "        }\n",
    "    ]\n",
    "}"
   ]
  },
  {
   "cell_type": "code",
   "execution_count": 19,
   "metadata": {},
   "outputs": [],
   "source": [
    "def work(X,y,fold):\n",
    "    \n",
    " best_model = None\n",
    " best_score = -999999\n",
    "    \n",
    " for score in scores:\n",
    "    for algorithm in algorithms:\n",
    "        grid = dict_grid[algorithm]\n",
    "        clf = GridSearchCV(algorithm,grid , scoring = '%s' % score, cv = fold)\n",
    "        \n",
    "        clf.fit( X, y )\n",
    "        \n",
    "        #In short when using a linear kernel, the result is a hyperplane and it's parameters\n",
    "        # are present in the weights & intercept properties of the clf object.\n",
    "\n",
    "        print('score : ' + str(clf.best_score_))\n",
    "        \n",
    "        if(clf.best_score_ > best_score):\n",
    "            best_model = clf\n",
    "            best_score = clf.best_score_\n",
    "            \n",
    " return (best_score,best_model.decision_function(X),X)"
   ]
  },
  {
   "cell_type": "code",
   "execution_count": null,
   "metadata": {
    "scrolled": true
   },
   "outputs": [
    {
     "name": "stdout",
     "output_type": "stream",
     "text": [
      "Begin training classifier\n",
      "(1920, 7)\n",
      "score : 0.75\n",
      "(1920, 7)\n",
      "score : 0.791666666667\n",
      "(1920, 7)\n",
      "score : 0.682291666667\n",
      "(1920, 7)\n",
      "score : 0.75\n",
      "(1920, 7)\n",
      "score : 0.723958333333\n",
      "(1920, 7)\n"
     ]
    }
   ],
   "source": [
    "from sklearn.utils import shuffle\n",
    "from  matplotlib import pyplot\n",
    "import seaborn\n",
    "seaborn.set(style='ticks')\n",
    "\n",
    "algorithms = [sv]\n",
    "scores = ['accuracy']\n",
    "\n",
    "augmented_dataset = augment(work,'PayOffFunction')\n",
    "\n",
    "#get the new column\n",
    "yReg = augmented_dataset[ 'd' ]\n",
    "xReg = augmented_dataset.drop( 'd' ,1 )\n",
    "\n",
    "xReg.to_csv('nodes.csv')\n",
    "\n",
    "print(augmented_dataset.head(5).columns)\n",
    "\n",
    "print('Begin training regressor')\n",
    "x_dum = pd.get_dummies(xReg)\n",
    "print(augmented_dataset.shape)\n",
    "augmented_dataset['index'] = augmented_dataset.index\n",
    "\n",
    "_func = ['Accuracy','Speed']\n",
    "\n",
    "fg = seaborn.FacetGrid(data=augmented_dataset, hue='PayOffFunction', aspect=1.61)\n",
    "fg.map(pyplot.scatter, 'index', 'd').add_legend()\n",
    "plt.show()"
   ]
  },
  {
   "cell_type": "code",
   "execution_count": null,
   "metadata": {},
   "outputs": [],
   "source": []
  }
 ],
 "metadata": {
  "kernelspec": {
   "display_name": "Python 3",
   "language": "python",
   "name": "python3"
  },
  "language_info": {
   "codemirror_mode": {
    "name": "ipython",
    "version": 3
   },
   "file_extension": ".py",
   "mimetype": "text/x-python",
   "name": "python",
   "nbconvert_exporter": "python",
   "pygments_lexer": "ipython3",
   "version": "3.6.1"
  }
 },
 "nbformat": 4,
 "nbformat_minor": 2
}
