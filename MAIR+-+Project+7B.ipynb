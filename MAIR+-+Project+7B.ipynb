{
 "cells": [
  {
   "cell_type": "code",
   "execution_count": 1,
   "metadata": {},
   "outputs": [],
   "source": [
    "# We are creating a dataset which is based on all of the dual-task trials per block and we are ignoring the practice trials\n",
    "# The dataset is built by merging the results acquired in the paper created by Chris (---link---)\n",
    "\n",
    "# Some columns are based on the significance provided in the said paper ( & maybe image here)\n",
    "# The csv files we are merging into our dataset are provided below\n",
    "\n",
    "\n",
    "# \n",
    "\n",
    "# -MaxDeviationPerTrial.csv\n",
    "# -maxnrDigitEnteredPerPPAndPerBlockPerTrial.csv\n",
    "# -numberOfVisitsTrackerPerParticipantPerBlock.csv (trial data)\n",
    "# samplesOutsideTrial.csv(*)\n",
    "# sdVisTime.csv(*)\n",
    "# tableForMeanTimeInDigitPerPPandPerBlock.csv(*) - merge the data ber block maybe?\n",
    "\n",
    "# We are using the payoff function values provided in the meanVisTime.csv file\n",
    "# The columns marked with star could be significant and we are testing to see the results with or without the said feature"
   ]
  },
  {
   "cell_type": "code",
   "execution_count": 17,
   "metadata": {
    "scrolled": true
   },
   "outputs": [
    {
     "data": {
      "text/plain": [
       "'loaded data!'"
      ]
     },
     "metadata": {},
     "output_type": "display_data"
    }
   ],
   "source": [
    "# We first read the data and display it\n",
    "final_rows = []\n",
    "\n",
    "import pandas as pd\n",
    "data = pd.read_csv('./data.csv');\n",
    "\n",
    "display('loaded data!')"
   ]
  },
  {
   "cell_type": "code",
   "execution_count": 18,
   "metadata": {},
   "outputs": [
    {
     "name": "stdout",
     "output_type": "stream",
     "text": [
      "resulting length : 8\n"
     ]
    }
   ],
   "source": [
    "# We first split the data into 8 datasets\n",
    "# and we calculate the mean value for each of the dataset\n",
    "# in order to see how biased the data is in terms of \n",
    "# Radius, Noise and the payoff function\n",
    "\n",
    "split_on = ['PayOffFunctionNumeric','Radius','Noise']\n",
    "\n",
    "def split(dataSets,col):\n",
    "    \n",
    "    s = []\n",
    "    \n",
    "    for data in dataSets:\n",
    "        \n",
    "        if(col >= len(split_on)):\n",
    "            return None\n",
    "        \n",
    "        values = {}\n",
    "        \n",
    "        for row in range(0,data.shape[ 0 ]):\n",
    "            splitColumn = split_on[ col ]\n",
    "\n",
    "            rowValue = data.iloc[ row ][ splitColumn ]\n",
    "            \n",
    "            if not rowValue in values:\n",
    "                values[ rowValue ] = [ ]\n",
    "                \n",
    "            values[ rowValue ].append(row)\n",
    "            \n",
    "        for value in values:\n",
    "            \n",
    "            nextSet = []\n",
    "            \n",
    "            for row in values[value]:\n",
    "                nextSet.append(data.iloc[ row ])\n",
    "                \n",
    "            s.append(pd.DataFrame(nextSet))\n",
    "            \n",
    "        \n",
    "    res = split( s , col + 1 )\n",
    "    \n",
    "    if res is None:\n",
    "        return s\n",
    "    else: \n",
    "        return res\n",
    "    \n",
    "sets = [data]\n",
    "\n",
    "split_sets = split(sets,0)\n",
    "\n",
    "print('resulting length : ' +  str(len(split_sets)))"
   ]
  },
  {
   "cell_type": "code",
   "execution_count": 4,
   "metadata": {},
   "outputs": [],
   "source": [
    "#We then take the top N percent of each of the sets\n",
    "\n",
    "def get_by_split(sets,start, step, end, func):\n",
    "    while start <= end:\n",
    "        for dataSet in sets:\n",
    "            sorted_set = dataSet.sort_values('Score',ascending=[False])\n",
    "            func(start,sorted_set)\n",
    "        start = start + step\n",
    "\n",
    "per_tick = {}\n",
    "\n",
    "#We then compute the mean for the score column for the provided dataset\n",
    "def mean(current_tick,item):\n",
    "\n",
    "    meanVal = item['Score'].mean()\n",
    "    \n",
    "    if current_tick not in per_tick:\n",
    "        per_tick[current_tick]= []\n",
    "        \n",
    "    per_tick[current_tick].append(meanVal)\n",
    "\n",
    "get_by_split(split_sets, 1, 0.05, 1,mean)"
   ]
  },
  {
   "cell_type": "code",
   "execution_count": 19,
   "metadata": {},
   "outputs": [
    {
     "data": {
      "image/png": "[encoded data removed]",
      "text/plain": [
       "<matplotlib.figure.Figure at 0x22483daa400>"
      ]
     },
     "metadata": {},
     "output_type": "display_data"
    }
   ],
   "source": [
    "# We can now measure the distributions\n",
    "# by testing different sizes\n",
    "\n",
    "import matplotlib.pyplot as plt\n",
    "import numpy as np\n",
    "\n",
    "for tick_size in per_tick:\n",
    "    tick_marks = np.arange(len(per_tick[tick_size]))\n",
    "    fig, ax = plt.subplots()\n",
    "    plt.bar(tick_marks,per_tick[tick_size])\n",
    "    plt.show()"
   ]
  },
  {
   "cell_type": "code",
   "execution_count": 29,
   "metadata": {},
   "outputs": [
    {
     "data": {
      "text/plain": [
       "'X shape : (1440, 12)'"
      ]
     },
     "metadata": {},
     "output_type": "display_data"
    },
    {
     "data": {
      "text/plain": [
       "'Y shape : (1440,)'"
      ]
     },
     "metadata": {},
     "output_type": "display_data"
    },
    {
     "data": {
      "text/plain": [
       "'Finished train test split'"
      ]
     },
     "metadata": {},
     "output_type": "display_data"
    }
   ],
   "source": [
    "# Then we split the data into training and testing sets by using the train test split function\n",
    "from sklearn.model_selection import train_test_split\n",
    "\n",
    "# Percentage of \n",
    "test = 0.25\n",
    "\n",
    "y = data[ 'Score' ]\n",
    "X = data.drop( 'Score',1 )\n",
    "\n",
    "#We split the data in train and test sets\n",
    "X_train,X_test,y_train,y_test = train_test_split(X,y,test_size=test)\n",
    "\n",
    "display('X shape : ' + str(X_train.shape))\n",
    "display('Y shape : ' + str(y_train.shape))\n",
    "display('Finished train test split')"
   ]
  },
  {
   "cell_type": "code",
   "execution_count": 30,
   "metadata": {},
   "outputs": [
    {
     "name": "stdout",
     "output_type": "stream",
     "text": [
      "Initialized algorithms\n"
     ]
    }
   ],
   "source": [
    "from sklearn.svm import SVR\n",
    "from sklearn.tree import tree\n",
    "\n",
    "# here be les dragons\n",
    "sv = SVR()\n",
    "tr = tree.DecisionTreeRegressor()\n",
    "\n",
    "print('Initialized algorithms')"
   ]
  },
  {
   "cell_type": "code",
   "execution_count": 25,
   "metadata": {},
   "outputs": [],
   "source": [
    "# Using grid search CV to tweak parameters\n",
    "# We define a hyper parameter\n",
    "\n",
    "from sklearn.model_selection import GridSearchCV\n",
    "\n",
    "dict_grid = {\n",
    "    sv: [\n",
    "            {\n",
    "                'C': [1, 10, 100, 1000], \n",
    "                'kernel' : ['linear']\n",
    "            },\n",
    "            {\n",
    "                'C': [1, 10, 100, 1000], \n",
    "                'gamma': [0.001, 0.0001], \n",
    "                'kernel': ['rbf']\n",
    "            }\n",
    "    ],\n",
    "    tr : [\n",
    "            {\n",
    "                #TODO:...\n",
    "            }\n",
    "    ]\n",
    "}"
   ]
  },
  {
   "cell_type": "code",
   "execution_count": 33,
   "metadata": {},
   "outputs": [
    {
     "name": "stdout",
     "output_type": "stream",
     "text": [
      "shuffling .. \n",
      "      Unnamed: 0  SubjectNr  TrialNumber  Block  PayOffFunctionNumeric  \\\n",
      "891          892        112          118      3                      1   \n",
      "63            64        101           80      1                      1   \n",
      "533          534        107           60      3                      1   \n",
      "1438        1439        206           95      4                      0   \n",
      "6              7        101          113      2                      1   \n",
      "157          158        102           94      4                      1   \n",
      "1502        1503        207           79      1                      0   \n",
      "775          776        110           62      4                      1   \n",
      "850          851        111           57      3                      1   \n",
      "492          493        107          119      3                      1   \n",
      "1757        1758        210           94      4                      0   \n",
      "348          349        105           25      2                      1   \n",
      "1895        1896        212           62      4                      0   \n",
      "1153        1154        203           30      3                      0   \n",
      "1079        1080        202           36      4                      0   \n",
      "51            52        101           58      3                      1   \n",
      "506          507        107           23      2                      1   \n",
      "265          266        104           22      2                      1   \n",
      "1750        1751        210           87      3                      0   \n",
      "727          728        110          114      2                      1   \n",
      "1608        1609        209          115      2                      0   \n",
      "1083        1084        202           50      1                      0   \n",
      "1707        1708        210           24      2                      0   \n",
      "1033        1034        201           90      3                      0   \n",
      "622          623        108           79      1                      1   \n",
      "1376        1377        206          123      4                      0   \n",
      "341          342        105           18      1                      1   \n",
      "1352        1353        205           89      3                      0   \n",
      "900          901        112           17      1                      1   \n",
      "1159        1160        203           36      4                      0   \n",
      "...          ...        ...          ...    ...                    ...   \n",
      "981          982        201           18      1                      0   \n",
      "1269        1270        204           86      2                      0   \n",
      "1449        1450        207          116      2                      0   \n",
      "1496        1497        207           63      4                      0   \n",
      "521          522        107           48      1                      1   \n",
      "1832        1833        211           89      3                      0   \n",
      "1914        1915        212           91      3                      0   \n",
      "1131        1132        203          118      3                      0   \n",
      "1251        1252        204           58      3                      0   \n",
      "1527        1528        208          114      2                      0   \n",
      "599          600        108           36      4                      1   \n",
      "816          817        111          123      4                      1   \n",
      "44            45        101           51      1                      1   \n",
      "1218        1219        204          125      4                      0   \n",
      "1653        1654        209           60      3                      0   \n",
      "1570        1571        208           57      3                      0   \n",
      "1294        1295        205          121      3                      0   \n",
      "97            98        102          124      4                      1   \n",
      "1526        1527        208          113      2                      0   \n",
      "237          238        103           94      4                      1   \n",
      "1861        1862        212           18      1                      0   \n",
      "435          436        106           32      4                      1   \n",
      "945          946        112           82      2                      1   \n",
      "1827        1828        211           84      2                      0   \n",
      "1632        1633        209           29      3                      0   \n",
      "1855        1856        212          122      4                      0   \n",
      "1694        1695        210          121      3                      0   \n",
      "541          542        107           78      1                      1   \n",
      "701          702        109           78      1                      1   \n",
      "65            66        101           82      2                      1   \n",
      "\n",
      "      Radius  Noise  IKINumber  MaxDeviation  MaxNrDigits  \\\n",
      "891      120      3   0.382399         74.03           14   \n",
      "63       120      3   0.308554         92.59           12   \n",
      "533      120      3   0.286344         86.24            8   \n",
      "1438     120      5   0.442728        104.02            6   \n",
      "6         80      3   0.308554         69.58           10   \n",
      "157      120      5   0.197858        124.06           20   \n",
      "1502     120      3   0.403017         68.35            9   \n",
      "775      120      3   0.184304         44.94           20   \n",
      "850       80      3   0.394169         95.04           12   \n",
      "492      120      5   0.286344        137.25            6   \n",
      "1757     120      3   0.258833         92.10           11   \n",
      "348       80      5   0.316916        149.26            7   \n",
      "1895     120      3   0.289582         44.34           20   \n",
      "1153     120      3   0.275605         42.98           11   \n",
      "1079      80      5   0.254892         77.92            4   \n",
      "51        80      5   0.308554         82.46            6   \n",
      "506       80      3   0.286344         76.94            9   \n",
      "265       80      5   0.469811        134.93            4   \n",
      "1750     120      3   0.258833         92.19            9   \n",
      "727      120      5   0.184304         85.06           20   \n",
      "1608     120      3   0.211222         64.84           10   \n",
      "1083     120      5   0.254892         90.73            4   \n",
      "1707     120      5   0.258833        133.52            8   \n",
      "1033     120      3   0.387901         55.98            7   \n",
      "622      120      3   0.264108         53.75           20   \n",
      "1376      80      5   0.442728        116.15            6   \n",
      "341       80      5   0.316916        105.54            7   \n",
      "1352      80      3   0.404970         69.59            9   \n",
      "900       80      5   0.382399        166.19           12   \n",
      "1159     120      3   0.275605         53.08           11   \n",
      "...      ...    ...        ...           ...          ...   \n",
      "981      120      5   0.387901         99.78            7   \n",
      "1269      80      5   0.223631         89.14            6   \n",
      "1449      80      3   0.403017         99.84            8   \n",
      "1496      80      5   0.403017        100.26            3   \n",
      "521      120      3   0.286344         64.02           20   \n",
      "1832     120      5   0.226100         97.66            9   \n",
      "1914      80      5   0.289582        150.76           11   \n",
      "1131      80      5   0.275605         70.71            5   \n",
      "1251     120      3   0.223631         77.07           11   \n",
      "1527     120      5   0.451450         77.35            4   \n",
      "599      120      5   0.264108        107.51           12   \n",
      "816       80      5   0.394169        106.05            9   \n",
      "44        80      5   0.308554        108.21            6   \n",
      "1218     120      5   0.223631        141.70            8   \n",
      "1653     120      5   0.211222        123.61            6   \n",
      "1570     120      3   0.451450         87.14           11   \n",
      "1294     120      3   0.404970         52.73            6   \n",
      "97        80      5   0.197858        140.87           10   \n",
      "1526     120      5   0.451450         82.08            5   \n",
      "237       80      5   0.393889        138.52            5   \n",
      "1861      80      3   0.289582         56.19            9   \n",
      "435      120      3   0.384194        130.45           12   \n",
      "945       80      3   0.382399         44.85            6   \n",
      "1827     120      5   0.226100         76.59           11   \n",
      "1632      80      5   0.211222        103.30            5   \n",
      "1855     120      5   0.289582         95.83            7   \n",
      "1694      80      3   0.258833         44.84            9   \n",
      "541       80      5   0.286344         75.92            7   \n",
      "701      120      3   0.184142         69.80           20   \n",
      "65       120      3   0.308554         52.57           13   \n",
      "\n",
      "      TrackingWindowVisitCounter  MeanTimeTypingWindow  \n",
      "891                            2              2.894267  \n",
      "63                             1              3.012900  \n",
      "533                            3              1.903275  \n",
      "1438                           6              1.787771  \n",
      "6                              3              1.928625  \n",
      "157                            1              2.388150  \n",
      "1502                           2              2.878367  \n",
      "775                            0              6.642500  \n",
      "850                            1              5.276950  \n",
      "492                            4              1.206520  \n",
      "1757                           2              2.012167  \n",
      "348                            8              0.985722  \n",
      "1895                           0              6.499200  \n",
      "1153                           1              3.265800  \n",
      "1079                          10              0.405236  \n",
      "51                             4              1.245400  \n",
      "506                            2              2.329500  \n",
      "265                            8              1.975600  \n",
      "1750                           3              1.554175  \n",
      "727                            0              4.450100  \n",
      "1608                           2              1.379267  \n",
      "1083                           7              0.740487  \n",
      "1707                           2              2.061900  \n",
      "1033                           3              2.247075  \n",
      "622                            0              5.826600  \n",
      "1376                           6              1.492943  \n",
      "341                            4              1.724060  \n",
      "1352                           5              1.040317  \n",
      "900                            1              5.538500  \n",
      "1159                           2              2.612100  \n",
      "...                          ...                   ...  \n",
      "981                            3              2.409750  \n",
      "1269                           5              1.176150  \n",
      "1449                           2              3.362267  \n",
      "1496                           6              1.574457  \n",
      "521                            0              8.156200  \n",
      "1832                           2              2.029233  \n",
      "1914                           2              2.080400  \n",
      "1131                           6              0.797157  \n",
      "1251                           1              3.604100  \n",
      "1527                           8              1.067333  \n",
      "599                            1              3.151450  \n",
      "816                            2              2.511400  \n",
      "44                             4              1.770800  \n",
      "1218                           2              1.778800  \n",
      "1653                           3              1.150800  \n",
      "1570                           1              4.463100  \n",
      "1294                           5              0.958733  \n",
      "97                             2              1.803300  \n",
      "1526                           8              1.064056  \n",
      "237                            6              1.540900  \n",
      "1861                           2              2.494200  \n",
      "435                            1              4.493250  \n",
      "945                            4              1.728900  \n",
      "1827                           1              2.150600  \n",
      "1632                           4              1.210880  \n",
      "1855                           2              2.669733  \n",
      "1694                           3              1.266050  \n",
      "541                            3              1.857150  \n",
      "701                            0              4.601300  \n",
      "65                             1              4.253800  \n",
      "\n",
      "[1440 rows x 12 columns]\n"
     ]
    },
    {
     "data": {
      "text/plain": [
       "'# Tuning hyper-parameters for R2'"
      ]
     },
     "metadata": {},
     "output_type": "display_data"
    },
    {
     "data": {
      "text/plain": [
       "'------Starting a new grid search CV fitting with model--------'"
      ]
     },
     "metadata": {},
     "output_type": "display_data"
    },
    {
     "data": {
      "text/plain": [
       "\"Fitting with model : SVR(C=1.0, cache_size=200, coef0=0.0, degree=3, epsilon=0.1, gamma='auto',\\n  kernel='rbf', max_iter=-1, shrinking=True, tol=0.001, verbose=False)\""
      ]
     },
     "metadata": {},
     "output_type": "display_data"
    },
    {
     "ename": "KeyError",
     "evalue": "SVR(C=1.0, cache_size=200, coef0=0.0, degree=3, epsilon=0.1, gamma='auto',\n  kernel='rbf', max_iter=-1, shrinking=True, tol=0.001, verbose=False)",
     "output_type": "error",
     "traceback": [
      "\u001b[1;31m---------------------------------------------------------------------------\u001b[0m",
      "\u001b[1;31mKeyError\u001b[0m                                  Traceback (most recent call last)",
      "\u001b[1;32m<ipython-input-33-1a631eef5723>\u001b[0m in \u001b[0;36m<module>\u001b[1;34m()\u001b[0m\n\u001b[0;32m     19\u001b[0m         \u001b[0mdisplay\u001b[0m\u001b[1;33m(\u001b[0m\u001b[1;34m'------Starting a new grid search CV fitting with model--------'\u001b[0m\u001b[1;33m)\u001b[0m\u001b[1;33m\u001b[0m\u001b[0m\n\u001b[0;32m     20\u001b[0m         \u001b[0mdisplay\u001b[0m\u001b[1;33m(\u001b[0m\u001b[1;34m'Fitting with model : '\u001b[0m \u001b[1;33m+\u001b[0m \u001b[0mstr\u001b[0m\u001b[1;33m(\u001b[0m\u001b[0malgorithm\u001b[0m\u001b[1;33m)\u001b[0m\u001b[1;33m)\u001b[0m\u001b[1;33m\u001b[0m\u001b[0m\n\u001b[1;32m---> 21\u001b[1;33m         \u001b[0mclf\u001b[0m \u001b[1;33m=\u001b[0m \u001b[0mGridSearchCV\u001b[0m\u001b[1;33m(\u001b[0m\u001b[0malgorithm\u001b[0m\u001b[1;33m,\u001b[0m \u001b[0mdict_grid\u001b[0m\u001b[1;33m[\u001b[0m\u001b[0malgorithm\u001b[0m\u001b[1;33m]\u001b[0m\u001b[1;33m,\u001b[0m \u001b[0mscoring\u001b[0m \u001b[1;33m=\u001b[0m \u001b[1;34m'%s_weighted'\u001b[0m \u001b[1;33m%\u001b[0m \u001b[0mscore\u001b[0m\u001b[1;33m)\u001b[0m\u001b[1;33m\u001b[0m\u001b[0m\n\u001b[0m\u001b[0;32m     22\u001b[0m \u001b[1;33m\u001b[0m\u001b[0m\n\u001b[0;32m     23\u001b[0m         \u001b[0mclf\u001b[0m\u001b[1;33m.\u001b[0m\u001b[0mfit\u001b[0m\u001b[1;33m(\u001b[0m \u001b[0mX_train\u001b[0m\u001b[1;33m,\u001b[0m \u001b[0my_train\u001b[0m \u001b[1;33m)\u001b[0m\u001b[1;33m\u001b[0m\u001b[0m\n",
      "\u001b[1;31mKeyError\u001b[0m: SVR(C=1.0, cache_size=200, coef0=0.0, degree=3, epsilon=0.1, gamma='auto',\n  kernel='rbf', max_iter=-1, shrinking=True, tol=0.001, verbose=False)"
     ]
    }
   ],
   "source": [
    "from sklearn.svm import SVR\n",
    "from sklearn import tree\n",
    "\n",
    "from sklearn.utils import shuffle\n",
    "\n",
    "algorithms = [sv,tr]\n",
    "\n",
    "scores = ['R2']\n",
    "\n",
    "print('shuffling .. ')\n",
    "\n",
    "X_shuff = shuffle( X_train )\n",
    "\n",
    "print('finished shuffling...')\n",
    "\n",
    "for score in scores:\n",
    "    display(\"# Tuning hyper-parameters for %s\" % score)\n",
    "    for algorithm in algorithms:\n",
    "        display('------Starting a new grid search CV fitting with model--------')\n",
    "        display('Fitting with model : ' + str(algorithm))\n",
    "        clf = GridSearchCV(algorithm, dict_grid[algorithm], scoring = '%s_weighted' % score)\n",
    "\n",
    "        clf.fit( X_train, y_train )\n",
    "        \n",
    "display('Finished training')"
   ]
  },
  {
   "cell_type": "code",
   "execution_count": null,
   "metadata": {},
   "outputs": [],
   "source": []
  }
 ],
 "metadata": {
  "kernelspec": {
   "display_name": "Python 3",
   "language": "python",
   "name": "python3"
  },
  "language_info": {
   "codemirror_mode": {
    "name": "ipython",
    "version": 3
   },
   "file_extension": ".py",
   "mimetype": "text/x-python",
   "name": "python",
   "nbconvert_exporter": "python",
   "pygments_lexer": "ipython3",
   "version": "3.6.1"
  }
 },
 "nbformat": 4,
 "nbformat_minor": 2
}
