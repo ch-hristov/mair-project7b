{
 "cells": [
  {
   "cell_type": "code",
   "execution_count": 1,
   "metadata": {},
   "outputs": [],
   "source": [
    "# We are creating a dataset which is based on all of the dual-task trials per block and we are ignoring the practice trials\n",
    "# The dataset is built by merging the results acquired in the paper created by Chris (---link---)\n",
    "\n",
    "# Some columns are based on the significance provided in the said paper ( & maybe image here)\n",
    "# The csv files we are merging into our dataset are provided below\n",
    "\n",
    "# -MaxDeviationPerTrial.csv\n",
    "# -maxnrDigitEnteredPerPPAndPerBlockPerTrial.csv\n",
    "# -numberOfVisitsTrackerPerParticipantPerBlock.csv (trial data)\n",
    "# samplesOutsideTrial.csv(*)\n",
    "# sdVisTime.csv(*)\n",
    "# tableForMeanTimeInDigitPerPPandPerBlock.csv(*) - merge the data ber block maybe?\n",
    "\n",
    "# We are using the payoff function values provided in the meanVisTime.csv file\n",
    "# The columns marked with star could be significant and we are testing to see the results with or without the said feature"
   ]
  },
  {
   "cell_type": "code",
   "execution_count": 1,
   "metadata": {
    "scrolled": true
   },
   "outputs": [
    {
     "data": {
      "text/plain": [
       "'loaded data!'"
      ]
     },
     "metadata": {},
     "output_type": "display_data"
    }
   ],
   "source": [
    "# We first read the data and display it\n",
    "final_rows = []\n",
    "\n",
    "import pandas as pd\n",
    "data = pd.read_csv('./data.csv');\n",
    "\n",
    "display('loaded data!')"
   ]
  },
  {
   "cell_type": "code",
   "execution_count": 2,
   "metadata": {},
   "outputs": [
    {
     "name": "stdout",
     "output_type": "stream",
     "text": [
      "resulting length : 8\n"
     ]
    }
   ],
   "source": [
    "# We first split the data into 8 datasets\n",
    "# and we calculate the mean value for each of the dataset\n",
    "# in order to see how biased the data is in terms of \n",
    "# Radius, Noise and the payoff function\n",
    "\n",
    "split_on = ['PayOffFunctionNumeric','Radius','Noise']\n",
    "\n",
    "def split(dataSets,col):\n",
    "    \n",
    "    s = []\n",
    "    \n",
    "    for data in dataSets:\n",
    "        \n",
    "        if(col >= len(split_on)):\n",
    "            return None\n",
    "        \n",
    "        values = {}\n",
    "        \n",
    "        for row in range(0,data.shape[ 0 ]):\n",
    "            splitColumn = split_on[ col ]\n",
    "\n",
    "            rowValue = data.iloc[ row ][ splitColumn ]\n",
    "            \n",
    "            if not rowValue in values:\n",
    "                values[ rowValue ] = [ ]\n",
    "                \n",
    "            values[ rowValue ].append(row)\n",
    "            \n",
    "        for value in values:\n",
    "            \n",
    "            nextSet = []\n",
    "            \n",
    "            for row in values[value]:\n",
    "                nextSet.append(data.iloc[ row ])\n",
    "                \n",
    "            s.append(pd.DataFrame(nextSet))\n",
    "            \n",
    "        \n",
    "    res = split( s , col + 1 )\n",
    "    \n",
    "    if res is None:\n",
    "        return s\n",
    "    else: \n",
    "        return res\n",
    "    \n",
    "sets = [ data ]\n",
    "\n",
    "split_sets = split(sets,0)\n",
    "\n",
    "print('resulting length : ' +  str(len(split_sets)))"
   ]
  },
  {
   "cell_type": "code",
   "execution_count": 3,
   "metadata": {},
   "outputs": [],
   "source": [
    "#We then take the top N percent of each of the sets\n",
    "\n",
    "def get_by_split(sets,start, step, end, func):\n",
    "    \n",
    "    while start <= end:\n",
    "        \n",
    "        for dataSet in sets:\n",
    "            \n",
    "            sorted_set = dataSet.sort_values('Score',ascending=[False])\n",
    "            func(start,sorted_set)\n",
    "            \n",
    "        start = start + step\n",
    "\n",
    "per_tick = {}\n",
    "\n",
    "#we save all of the datasets in this variable for later use\n",
    "datasets = []\n",
    "\n",
    "#We then compute the mean for the score column for the provided dataset\n",
    "def mean(current_tick,item):\n",
    "\n",
    "    meanVal = item['Score'].mean()\n",
    "    \n",
    "    if current_tick not in per_tick:\n",
    "        per_tick[current_tick]= []\n",
    "        \n",
    "    per_tick[current_tick].append(meanVal)\n",
    "    datasets.append(item)\n",
    "\n",
    "get_by_split(split_sets, 1, 0.05, 1,mean)"
   ]
  },
  {
   "cell_type": "code",
   "execution_count": 4,
   "metadata": {},
   "outputs": [
    {
     "data": {
      "image/png": "[encoded data removed]",
      "text/plain": [
       "<matplotlib.figure.Figure at 0x25ec902d710>"
      ]
     },
     "metadata": {},
     "output_type": "display_data"
    }
   ],
   "source": [
    "# We can now measure the distributions\n",
    "# by testing different sizes\n",
    "\n",
    "import matplotlib.pyplot as plt\n",
    "import numpy as np\n",
    "\n",
    "for tick_size in per_tick:\n",
    "    tick_marks = np.arange(len(per_tick[tick_size]))\n",
    "    fig, ax = plt.subplots()\n",
    "    plt.bar(tick_marks,per_tick[tick_size])\n",
    "    plt.show()"
   ]
  },
  {
   "cell_type": "code",
   "execution_count": 19,
   "metadata": {},
   "outputs": [
    {
     "name": "stdout",
     "output_type": "stream",
     "text": [
      "24\n",
      "24\n",
      "24\n",
      "24\n",
      "24\n",
      "24\n",
      "24\n",
      "24\n",
      "24\n",
      "24\n",
      "24\n",
      "24\n",
      "24\n",
      "24\n",
      "24\n",
      "24\n",
      "24\n",
      "24\n",
      "24\n",
      "24\n",
      "24\n",
      "24\n",
      "24\n",
      "24\n",
      "24\n",
      "24\n",
      "24\n",
      "24\n",
      "24\n",
      "24\n",
      "24\n",
      "24\n",
      "24\n",
      "24\n",
      "24\n",
      "24\n",
      "24\n",
      "24\n",
      "24\n",
      "24\n",
      "24\n",
      "24\n",
      "24\n",
      "24\n",
      "24\n",
      "24\n",
      "24\n",
      "24\n",
      "24\n",
      "24\n",
      "24\n",
      "24\n",
      "24\n",
      "24\n",
      "24\n",
      "24\n",
      "24\n",
      "24\n",
      "24\n",
      "24\n",
      "24\n",
      "24\n",
      "24\n",
      "24\n",
      "24\n",
      "24\n",
      "24\n",
      "24\n",
      "24\n",
      "24\n",
      "24\n",
      "24\n",
      "24\n",
      "24\n",
      "24\n",
      "24\n",
      "24\n",
      "24\n",
      "24\n",
      "24\n",
      "(0, 0)\n",
      "(0, 0)\n",
      "(0, 0)\n",
      "(0, 0)\n",
      "(0, 0)\n",
      "(0, 0)\n",
      "(0, 0)\n",
      "(0, 0)\n",
      "(0, 0)\n",
      "(0, 0)\n"
     ]
    }
   ],
   "source": [
    "dictionary = {}\n",
    "\n",
    "i = 0;\n",
    "perc = 10\n",
    "\n",
    "while(i <= 9):\n",
    "    conc = []\n",
    "    \n",
    "    #Here might be some missing one from rounding,\n",
    "    #TODO: check if it's correct\n",
    "    \n",
    "    for dataSet in datasets:\n",
    "        size = int(dataSet.shape[0] / perc)\n",
    "        take = i * perc\n",
    "        next_items = dataSet[take:take+size]\n",
    "        conc.append(next_items)\n",
    "        \n",
    "    if i not in dictionary:\n",
    "        dictionary[i]= []\n",
    "        \n",
    "    dictionary[i].append(conc)\n",
    "    i = i + 1\n",
    "    \n",
    "frames = []\n",
    "\n",
    "for key in dictionary:\n",
    "    df = pd.DataFrame()\n",
    "    for item in dictionary[key]:\n",
    "        df.append(item)\n",
    "    frames.append(df)\n",
    "    print(df.shape)"
   ]
  },
  {
   "cell_type": "code",
   "execution_count": 29,
   "metadata": {},
   "outputs": [
    {
     "data": {
      "text/plain": [
       "'X shape : (1440, 12)'"
      ]
     },
     "metadata": {},
     "output_type": "display_data"
    },
    {
     "data": {
      "text/plain": [
       "'Y shape : (1440,)'"
      ]
     },
     "metadata": {},
     "output_type": "display_data"
    },
    {
     "data": {
      "text/plain": [
       "'Finished train test split'"
      ]
     },
     "metadata": {},
     "output_type": "display_data"
    }
   ],
   "source": [
    "# Then we split the data into training and testing sets by using the train test split function\n",
    "from sklearn.model_selection import train_test_split\n",
    "\n",
    "# Percentage of \n",
    "test = 0.25\n",
    "\n",
    "y = data[ 'Score' ]\n",
    "X = data.drop( 'Score',1 )\n",
    "\n",
    "#We split the data in train and test sets\n",
    "X_train,X_test,y_train,y_test = train_test_split(X,y,test_size=test)\n",
    "\n",
    "display('X shape : ' + str(X_train.shape))\n",
    "display('Y shape : ' + str(y_train.shape))\n",
    "\n",
    "display('Finished train test split')"
   ]
  },
  {
   "cell_type": "code",
   "execution_count": 12,
   "metadata": {},
   "outputs": [
    {
     "name": "stdout",
     "output_type": "stream",
     "text": [
      "Initialized algorithms\n"
     ]
    }
   ],
   "source": [
    "from sklearn.svm import SVR\n",
    "from sklearn.tree import tree\n",
    "\n",
    "# here be les dragons\n",
    "sv = SVR()\n",
    "tr = tree.DecisionTreeRegressor()\n",
    "\n",
    "print('Initialized algorithms')"
   ]
  },
  {
   "cell_type": "code",
   "execution_count": 34,
   "metadata": {},
   "outputs": [],
   "source": [
    "# Using grid search CV to tweak parameters\n",
    "# We define a hyper parameter\n",
    "\n",
    "from sklearn.model_selection import GridSearchCV\n",
    "\n",
    "dict_grid = {\n",
    "    sv: [\n",
    "            {\n",
    "                'C': [1, 10, 100, 1000], \n",
    "                'kernel' : ['linear']\n",
    "            },\n",
    "            {\n",
    "                'C': [1, 10, 100, 1000], \n",
    "                'gamma': [0.001, 0.0001], \n",
    "                'kernel': ['rbf']\n",
    "            }\n",
    "    ],\n",
    "    tr : [\n",
    "            {\n",
    "                #TODO:...\n",
    "            }\n",
    "    ]\n",
    "}"
   ]
  },
  {
   "cell_type": "code",
   "execution_count": 11,
   "metadata": {},
   "outputs": [
    {
     "ename": "NameError",
     "evalue": "name 'sv' is not defined",
     "output_type": "error",
     "traceback": [
      "\u001b[1;31m---------------------------------------------------------------------------\u001b[0m",
      "\u001b[1;31mNameError\u001b[0m                                 Traceback (most recent call last)",
      "\u001b[1;32m<ipython-input-11-fe6eb7740c7b>\u001b[0m in \u001b[0;36m<module>\u001b[1;34m()\u001b[0m\n\u001b[0;32m      4\u001b[0m \u001b[1;32mfrom\u001b[0m \u001b[0msklearn\u001b[0m\u001b[1;33m.\u001b[0m\u001b[0mutils\u001b[0m \u001b[1;32mimport\u001b[0m \u001b[0mshuffle\u001b[0m\u001b[1;33m\u001b[0m\u001b[0m\n\u001b[0;32m      5\u001b[0m \u001b[1;33m\u001b[0m\u001b[0m\n\u001b[1;32m----> 6\u001b[1;33m \u001b[0malgorithms\u001b[0m \u001b[1;33m=\u001b[0m \u001b[1;33m[\u001b[0m\u001b[0msv\u001b[0m\u001b[1;33m,\u001b[0m\u001b[0mtr\u001b[0m\u001b[1;33m]\u001b[0m\u001b[1;33m\u001b[0m\u001b[0m\n\u001b[0m\u001b[0;32m      7\u001b[0m \u001b[0mscores\u001b[0m \u001b[1;33m=\u001b[0m \u001b[1;33m[\u001b[0m\u001b[1;34m'r2'\u001b[0m\u001b[1;33m]\u001b[0m\u001b[1;33m\u001b[0m\u001b[0m\n\u001b[0;32m      8\u001b[0m \u001b[1;33m\u001b[0m\u001b[0m\n",
      "\u001b[1;31mNameError\u001b[0m: name 'sv' is not defined"
     ]
    }
   ],
   "source": [
    "from sklearn.svm import SVR\n",
    "from sklearn import tree\n",
    "\n",
    "from sklearn.utils import shuffle\n",
    "\n",
    "algorithms = [sv,tr]\n",
    "scores = ['r2']\n",
    "\n",
    "print('...shuffling ...')\n",
    "\n",
    "X_shuff = shuffle( X_train )\n",
    "\n",
    "print( '...finished shuffling... ' )\n",
    "\n",
    "for score in scores:\n",
    "    \n",
    "    display(\"# Tuning hyper-parameters for %s\" % score)\n",
    "    \n",
    "    for algorithm in algorithms:\n",
    "        \n",
    "        display( '-------- Starting a new grid search CV fitting with model --------' )\n",
    "        display( 'Fitting with model : ' + str(algorithm) )\n",
    "        \n",
    "        clf = GridSearchCV(algorithm, dict_grid[algorithm], scoring = '%s' % score)\n",
    "        clf.fit( X_train, y_train )\n",
    "        \n",
    "display('Finished training')"
   ]
  },
  {
   "cell_type": "code",
   "execution_count": null,
   "metadata": {},
   "outputs": [],
   "source": []
  }
 ],
 "metadata": {
  "kernelspec": {
   "display_name": "Python 3",
   "language": "python",
   "name": "python3"
  },
  "language_info": {
   "codemirror_mode": {
    "name": "ipython",
    "version": 3
   },
   "file_extension": ".py",
   "mimetype": "text/x-python",
   "name": "python",
   "nbconvert_exporter": "python",
   "pygments_lexer": "ipython3",
   "version": "3.6.1"
  }
 },
 "nbformat": 4,
 "nbformat_minor": 2
}
